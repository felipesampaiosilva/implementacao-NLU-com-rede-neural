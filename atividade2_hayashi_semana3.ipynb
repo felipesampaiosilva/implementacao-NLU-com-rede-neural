{
  "nbformat": 4,
  "nbformat_minor": 0,
  "metadata": {
    "colab": {
      "provenance": []
    },
    "kernelspec": {
      "name": "python3",
      "display_name": "Python 3"
    },
    "language_info": {
      "name": "python"
    }
  },
  "cells": [
    {
      "cell_type": "code",
      "source": [
        "# Montando o Google Drive para acesso aos arquivos\n",
        "from google.colab import drive\n",
        "drive.mount('/content/drive')\n"
      ],
      "metadata": {
        "colab": {
          "base_uri": "https://localhost:8080/"
        },
        "id": "eBHPyePzAoim",
        "outputId": "06dae4cf-6ecf-4f4c-b19d-db21f7c5ace3"
      },
      "execution_count": 61,
      "outputs": [
        {
          "output_type": "stream",
          "name": "stdout",
          "text": [
            "Drive already mounted at /content/drive; to attempt to forcibly remount, call drive.mount(\"/content/drive\", force_remount=True).\n"
          ]
        }
      ]
    },
    {
      "cell_type": "code",
      "source": [
        "# Carregando bibliotecas essenciais\n",
        "import tensorflow as tf\n",
        "import pandas as pd\n",
        "import numpy as np\n",
        "from tensorflow.keras.preprocessing.text import Tokenizer\n",
        "from tensorflow.keras.preprocessing.sequence import pad_sequences\n",
        "from tensorflow.keras.models import Sequential\n",
        "from tensorflow.keras.layers import Embedding, GlobalAveragePooling1D, Dense\n",
        "from sklearn.preprocessing import LabelEncoder\n",
        "from sklearn.model_selection import train_test_split\n",
        "from sklearn.metrics import f1_score, recall_score, classification_report\n"
      ],
      "metadata": {
        "id": "vNao-RN5FLKO"
      },
      "execution_count": 62,
      "outputs": []
    },
    {
      "cell_type": "code",
      "source": [
        "# Carregando o dataset\n",
        "path_csv = \"/content/drive/MyDrive/modulo11/semana3/dados_cliente.csv\"\n",
        "df = pd.read_csv(path_csv)\n"
      ],
      "metadata": {
        "id": "mGQ_Vh6XFLH8"
      },
      "execution_count": 63,
      "outputs": []
    },
    {
      "cell_type": "code",
      "source": [
        "# Selecionando as colunas relevantes e removendo valores nulos\n",
        "df = df[['Pergunta', 'Intencao']].dropna()\n"
      ],
      "metadata": {
        "id": "7dPujnHdFLFj"
      },
      "execution_count": 64,
      "outputs": []
    },
    {
      "cell_type": "code",
      "source": [
        "# Preprocessamento: tokenização e padding\n",
        "tokenizer = Tokenizer(num_words=10000, oov_token=\"<OOV>\")\n",
        "tokenizer.fit_on_texts(df['Pergunta'])\n",
        "sequences = tokenizer.texts_to_sequences(df['Pergunta'])\n",
        "padded_sequences = pad_sequences(sequences, padding='post')\n"
      ],
      "metadata": {
        "id": "VWtJNFpqFb1O"
      },
      "execution_count": 65,
      "outputs": []
    },
    {
      "cell_type": "code",
      "source": [
        "# Codificando os rótulos\n",
        "label_encoder = LabelEncoder()\n",
        "intencoes_encoded = label_encoder.fit_transform(df['Intencao'])\n"
      ],
      "metadata": {
        "id": "gyYOeVITFbyx"
      },
      "execution_count": 66,
      "outputs": []
    },
    {
      "cell_type": "code",
      "source": [
        "# Dividindo os dados em treino e teste\n",
        "X_train, X_test, y_train, y_test = train_test_split(padded_sequences, intencoes_encoded, test_size=0.2, random_state=42)\n"
      ],
      "metadata": {
        "id": "BYzeqx2DFbwT"
      },
      "execution_count": 67,
      "outputs": []
    },
    {
      "cell_type": "code",
      "source": [
        "# Construção do modelo com uma camada de Pooling\n",
        "model = Sequential([\n",
        "    Embedding(input_dim=10000, output_dim=16, input_length=padded_sequences.shape[1]),\n",
        "    GlobalAveragePooling1D(),  # Melhor para capturar a média das features\n",
        "    Dense(32, activation='relu'),\n",
        "    Dense(16, activation='relu'),\n",
        "    Dense(len(label_encoder.classes_), activation='softmax')\n",
        "])\n",
        "\n",
        "model.compile(optimizer='adam', loss='sparse_categorical_crossentropy', metrics=['accuracy'])\n"
      ],
      "metadata": {
        "colab": {
          "base_uri": "https://localhost:8080/"
        },
        "id": "IS-oEr8RF7Bb",
        "outputId": "37bf6016-334c-4ed9-8359-542e32b00643"
      },
      "execution_count": 68,
      "outputs": [
        {
          "output_type": "stream",
          "name": "stderr",
          "text": [
            "/usr/local/lib/python3.10/dist-packages/keras/src/layers/core/embedding.py:90: UserWarning: Argument `input_length` is deprecated. Just remove it.\n",
            "  warnings.warn(\n"
          ]
        }
      ]
    },
    {
      "cell_type": "code",
      "source": [
        "# Avaliação e métricas\n",
        "y_pred_probs = model.predict(X_test)\n",
        "y_pred = np.argmax(y_pred_probs, axis=1)\n",
        "\n",
        "recall = recall_score(y_test, y_pred, average='weighted')\n",
        "f1 = f1_score(y_test, y_pred, average='weighted')\n",
        "report = classification_report(y_test, y_pred, target_names=label_encoder.classes_)\n",
        "\n",
        "print(f'Recall: {recall}')\n",
        "print(f'F1-Score: {f1}')\n",
        "print('Classification Report:')\n",
        "print(report)\n",
        "\n",
        "loss, accuracy = model.evaluate(X_test, y_test)\n",
        "print(f'Loss: {loss}')\n",
        "print(f'Accuracy: {accuracy}')\n"
      ],
      "metadata": {
        "colab": {
          "base_uri": "https://localhost:8080/"
        },
        "id": "ZOHkZxO8F6-3",
        "outputId": "7408f056-187a-4820-aed5-36a306851371"
      },
      "execution_count": 69,
      "outputs": [
        {
          "output_type": "stream",
          "name": "stdout",
          "text": [
            "\u001b[1m4/4\u001b[0m \u001b[32m━━━━━━━━━━━━━━━━━━━━\u001b[0m\u001b[37m\u001b[0m \u001b[1m0s\u001b[0m 23ms/step\n",
            "Recall: 0.04950495049504951\n",
            "F1-Score: 0.0178979436405179\n",
            "Classification Report:\n",
            "                                      precision    recall  f1-score   support\n",
            "\n",
            "                      Acesso a conta       0.00      0.00      0.00         4\n",
            "     Atualizacao de dados cadastrais       0.00      0.00      0.00         1\n",
            "            Cadastro de beneficiario       0.00      0.00      0.00         3\n",
            "                        Cancelamento       1.00      0.33      0.50         3\n",
            "                      Como depositar       0.04      1.00      0.08         4\n",
            "                  Como fazer remessa       0.00      0.00      0.00         2\n",
            "                   Como se inscrever       0.00      0.00      0.00         9\n",
            "         Confirmacao de cambio/taxas       0.00      0.00      0.00        21\n",
            "              Envio via Deposit Code       0.00      0.00      0.00         1\n",
            "Pedido de envio via metodo \"ByPhone\"       0.00      0.00      0.00        16\n",
            "                Problemas de remessa       0.00      0.00      0.00         6\n",
            "                           Reembolso       0.00      0.00      0.00         2\n",
            "   Registro/Atualizacao de Documento       0.00      0.00      0.00         5\n",
            "                   Regras do servico       0.00      0.00      0.00         1\n",
            "   Solicitacao de cartao de remessas       0.00      0.00      0.00         6\n",
            "          Tempo de entrega do cartao       0.00      0.00      0.00         3\n",
            "                    Tempo de remessa       0.00      0.00      0.00         8\n",
            "       Termos e condicoes do servico       0.00      0.00      0.00         6\n",
            "\n",
            "                            accuracy                           0.05       101\n",
            "                           macro avg       0.06      0.07      0.03       101\n",
            "                        weighted avg       0.03      0.05      0.02       101\n",
            "\n"
          ]
        },
        {
          "output_type": "stream",
          "name": "stderr",
          "text": [
            "/usr/local/lib/python3.10/dist-packages/sklearn/metrics/_classification.py:1471: UndefinedMetricWarning: Precision and F-score are ill-defined and being set to 0.0 in labels with no predicted samples. Use `zero_division` parameter to control this behavior.\n",
            "  >>> fbeta_score(y_true, y_pred, average='macro', beta=0.5)\n",
            "/usr/local/lib/python3.10/dist-packages/sklearn/metrics/_classification.py:1471: UndefinedMetricWarning: Precision and F-score are ill-defined and being set to 0.0 in labels with no predicted samples. Use `zero_division` parameter to control this behavior.\n",
            "  >>> fbeta_score(y_true, y_pred, average='macro', beta=0.5)\n",
            "/usr/local/lib/python3.10/dist-packages/sklearn/metrics/_classification.py:1471: UndefinedMetricWarning: Precision and F-score are ill-defined and being set to 0.0 in labels with no predicted samples. Use `zero_division` parameter to control this behavior.\n",
            "  >>> fbeta_score(y_true, y_pred, average='macro', beta=0.5)\n"
          ]
        },
        {
          "output_type": "stream",
          "name": "stdout",
          "text": [
            "\u001b[1m4/4\u001b[0m \u001b[32m━━━━━━━━━━━━━━━━━━━━\u001b[0m\u001b[37m\u001b[0m \u001b[1m0s\u001b[0m 3ms/step - accuracy: 0.0458 - loss: 2.8905  \n",
            "Loss: 2.890580654144287\n",
            "Accuracy: 0.049504950642585754\n"
          ]
        }
      ]
    }
  ]
}